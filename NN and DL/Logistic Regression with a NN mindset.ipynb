{
 "cells": [
  {
   "cell_type": "markdown",
   "metadata": {},
   "source": [
    "**本节你将可以学到：**\n",
    "- 学习算法的一般思路：\n",
    "    - 初始化参数\n",
    "    - 计算损失函数和梯度\n",
    "    - 选择一个优化器（比如，梯度下降）\n",
    "- 以上思路的函数编程："
   ]
  },
  {
   "cell_type": "code",
   "execution_count": 3,
   "metadata": {},
   "outputs": [],
   "source": [
    "import numpy as np\n",
    "import matplotlib.pyplot as plt\n",
    "import h5py\n",
    "import scipy\n",
    "from PIL import Image"
   ]
  },
  {
   "cell_type": "code",
   "execution_count": 67,
   "metadata": {},
   "outputs": [],
   "source": [
    "def load_dataset():\n",
    "    train_dataset = h5py.File('datasets/train_catvnoncat.h5','r')\n",
    "#     print(train_dataset[\"train_set_x\"])\n",
    "    #shape (209, 64, 64, 3)\n",
    "    train_set_x = np.array(train_dataset[\"train_set_x\"])\n",
    "    #shape (209,)\n",
    "    train_set_y = np.array(train_dataset[\"train_set_y\"])\n",
    "\n",
    "    test_dataset = h5py.File('datasets/test_catvnoncat.h5','r')\n",
    "#     print(test_dataset[\"test_set_x\"])\n",
    "    #shape (50, 64, 64, 3)\n",
    "    test_set_x = np.array(test_dataset[\"test_set_x\"])\n",
    "    #shape (50,)\n",
    "    test_set_y = np.array(test_dataset[\"test_set_y\"])\n",
    "    #[b'non-cat' b'cat']\n",
    "    classes = np.array(test_dataset[\"list_classes\"])\n",
    "\n",
    "    #shape (1,209)\n",
    "    train_set_y = np.expand_dims(train_set_y,0)\n",
    "    #shape (1,50)\n",
    "    test_set_y = np.expand_dims(test_set_y,0)\n",
    "\n",
    "    return train_set_x,train_set_y,test_set_x,test_set_y,classes"
   ]
  },
  {
   "cell_type": "code",
   "execution_count": 76,
   "metadata": {},
   "outputs": [],
   "source": [
    "#load dataset\n",
    "train_set_x,train_set_y,test_set_x,test_set_y,classes = load_dataset()"
   ]
  },
  {
   "cell_type": "code",
   "execution_count": 86,
   "metadata": {},
   "outputs": [
    {
     "name": "stdout",
     "output_type": "stream",
     "text": [
      "y = [1], it's a cat\n"
     ]
    },
    {
     "data": {
      "image/png": "[encoded data removed]",
      "text/plain": [
       "<Figure size 432x288 with 1 Axes>"
      ]
     },
     "metadata": {
      "needs_background": "light"
     },
     "output_type": "display_data"
    }
   ],
   "source": [
    "#imshow a picture\n",
    "index = 25\n",
    "plt.imshow(train_set_x[index])\n",
    "#np.squeeze 把shape为1的维度去掉，这里就是数字1\n",
    "print('y = '+str(train_set_y[:,index])+\", it's a \"+classes[np.squeeze(train_set_y[:,index])].decode('utf-8'))"
   ]
  },
  {
   "cell_type": "code",
   "execution_count": 91,
   "metadata": {},
   "outputs": [
    {
     "name": "stdout",
     "output_type": "stream",
     "text": [
      "(12288, 209)\n",
      "(12288, 50)\n"
     ]
    }
   ],
   "source": [
    "train_set_x_flatten = train_set_x.reshape(train_set_x.shape[0],-1).T\n",
    "print(train_set_x_flatten.shape)\n",
    "test_set_x_flatten = test_set_x.reshape(test_set_x.shape[0],-1).T\n",
    "print(test_set_x_flatten.shape)"
   ]
  },
  {
   "cell_type": "code",
   "execution_count": 94,
   "metadata": {},
   "outputs": [
    {
     "name": "stdout",
     "output_type": "stream",
     "text": [
      "[[0.61960784 0.45098039 1.         ... 0.16078431 0.07058824 0.52156863]\n",
      " [0.40784314 0.43137255 0.99215686 ... 0.18431373 0.07058824 0.63921569]\n",
      " [0.3254902  0.43529412 0.99607843 ... 0.32941176 0.0627451  0.29411765]\n",
      " ...\n",
      " [0.67843137 0.67058824 0.52156863 ... 0.71764706 0.56470588 0.01960784]\n",
      " [0.50196078 0.69019608 0.39607843 ... 0.55294118 0.5372549  0.08627451]\n",
      " [0.43137255 0.72941176 0.4745098  ... 0.45490196 0.42352941 0.01960784]]\n"
     ]
    }
   ],
   "source": [
    "train_set_x = train_set_x_flatten / 255\n",
    "test_set_x = test_set_x_flatten / 255"
   ]
  },
  {
   "cell_type": "code",
   "execution_count": 102,
   "metadata": {},
   "outputs": [],
   "source": [
    "#define sigmoid function\n",
    "def sigmoid(z):\n",
    "    s = 1 / (1+np.exp(-z))\n",
    "    return s"
   ]
  },
  {
   "cell_type": "code",
   "execution_count": 106,
   "metadata": {},
   "outputs": [],
   "source": [
    "#initial parameters\n",
    "def initialize_with_zeros(dim):\n",
    "    w = np.zeros(shape=(dim,1))\n",
    "    b = np.zeros(1)\n",
    "    assert w.shape==(dim,1),'w\\'s shape must be (dim,1)'\n",
    "    return w,b"
   ]
  },
  {
   "cell_type": "code",
   "execution_count": 109,
   "metadata": {},
   "outputs": [
    {
     "name": "stdout",
     "output_type": "stream",
     "text": [
      "[[0.]\n",
      " [0.]\n",
      " [0.]] [0.]\n"
     ]
    }
   ],
   "source": [
    "#test\n",
    "dim = 3\n",
    "w,b = initialize_with_zeros(dim)\n",
    "print(w,b)"
   ]
  },
  {
   "cell_type": "code",
   "execution_count": 112,
   "metadata": {},
   "outputs": [],
   "source": [
    "#forward propagation\n",
    "#return grad and cost\n",
    "def forward_propagation(w,b,train_x,train_y):\n",
    "    m = train_x.shape[1] #样本个数\n",
    "    A= sigmoid(np.dot(w.T,train_x)+b)\n",
    "    cost = -1/m *np.sum(train_y * np.log(A) + (1-train_y)*np.log(1-A))\n",
    "    \n",
    "    #有待证明，sleep\n",
    "    dw = (1/m)*np.dot(train_x,(A-train_y).T)\n",
    "    db = (1/m)*np.sum(A-train_y)\n",
    "    \n",
    "    cost = np.squeeze(cost)\n",
    "    grads = {'dw':dw,\n",
    "            'db':db}\n",
    "    return grads,cost"
   ]
  },
  {
   "cell_type": "code",
   "execution_count": 114,
   "metadata": {},
   "outputs": [
    {
     "name": "stdout",
     "output_type": "stream",
     "text": [
      "dw = [[0.99993216]\n",
      " [1.99980262]]\n",
      "db = 0.49993523062470574\n",
      "cost = 6.000064773192205\n"
     ]
    }
   ],
   "source": [
    "w, b, X, Y = np.array([[1], [2]]), 2, np.array([[1,2], [3,4]]), np.array([[1, 0]])\n",
    "grads, cost = forward_propagation(w, b, X, Y)\n",
    "print (\"dw = \" + str(grads[\"dw\"]))\n",
    "print (\"db = \" + str(grads[\"db\"]))\n",
    "print (\"cost = \" + str(cost))"
   ]
  },
  {
   "cell_type": "code",
   "execution_count": null,
   "metadata": {},
   "outputs": [],
   "source": [
    "def model(train_x,train_y,test_x,test_y):\n",
    "    w,b = initialize_with_zeros(train_x.shape[0])\n",
    "    grads,cost = forward_propagation(w,b,train_x,train_y)"
   ]
  }
 ],
 "metadata": {
  "kernelspec": {
   "display_name": "Python 3",
   "language": "python",
   "name": "python3"
  },
  "language_info": {
   "codemirror_mode": {
    "name": "ipython",
    "version": 3
   },
   "file_extension": ".py",
   "mimetype": "text/x-python",
   "name": "python",
   "nbconvert_exporter": "python",
   "pygments_lexer": "ipython3",
   "version": "3.5.2"
  }
 },
 "nbformat": 4,
 "nbformat_minor": 2
}
